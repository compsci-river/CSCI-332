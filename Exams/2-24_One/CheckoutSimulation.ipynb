{
  "nbformat": 4,
  "nbformat_minor": 0,
  "metadata": {
    "colab": {
      "provenance": []
    },
    "kernelspec": {
      "name": "python3",
      "display_name": "Python 3"
    },
    "language_info": {
      "name": "python"
    }
  },
  "cells": [
    {
      "cell_type": "code",
      "execution_count": 7,
      "metadata": {
        "id": "Yse9lI4gmacn"
      },
      "outputs": [],
      "source": [
        "import random\n",
        "\n",
        "class Customer:\n",
        "    def __init__(self, items):\n",
        "        self.items = items\n",
        "        self.time = 0\n",
        "        self.next = None\n",
        "\n",
        "class Stations:\n",
        "    def __init__(self, n):\n",
        "        stations = []\n",
        "        for i in range(n):\n",
        "            stations.append(0)\n",
        "        self.stations = stations\n",
        "        self.n = n\n",
        "\n",
        "class Queue:\n",
        "    def __init__(self, stations):\n",
        "        self.head = None\n",
        "        self.tail = None\n",
        "        self.size = 0\n",
        "        self.stations = stations\n",
        "        self.post = None\n",
        "        self.postN = 0\n",
        "\n",
        "    def enqueue(self, customer):\n",
        "        if self.head == None:\n",
        "            self.head = customer\n",
        "            self.tail = self.head\n",
        "            self.size = 1\n",
        "        else:\n",
        "            self.tail.next = customer\n",
        "            self.tail = self.tail.next\n",
        "            self.size += 1\n",
        "\n",
        "    def dequeue(self):\n",
        "        if self.head == None:\n",
        "            return None\n",
        "        else:\n",
        "            temp = self.head\n",
        "            self.head = self.head.next\n",
        "            self.size -= 1\n",
        "            temp.next = self.post\n",
        "            self.post = temp\n",
        "            self.postN += 1\n",
        "            return temp\n",
        "\n",
        "    def incrementTime(self):\n",
        "        temp = self.head\n",
        "        while temp != None:\n",
        "            temp.time += 1\n",
        "            temp = temp.next\n",
        "\n",
        "    def checkTime(self):\n",
        "        if self.postN == 0:\n",
        "            return 0\n",
        "        sum = 0\n",
        "        temp = self.post\n",
        "        while temp != None:\n",
        "            sum += temp.time\n",
        "            temp = temp.next\n",
        "        return round(sum/self.postN, 2)\n",
        "\n",
        "\n",
        "def update(queues):\n",
        "    for queue in queues:\n",
        "        for i in range(queue.stations.n):\n",
        "            if queue.stations.stations[i] <= 0:\n",
        "                temp = queue.dequeue()\n",
        "                if temp != None:\n",
        "                    queue.stations.stations[i] = temp.items\n",
        "            queue.stations.stations[i] -= 1\n",
        "            if queue.stations.stations[i] < 0:\n",
        "                queue.stations.stations[i] = 0\n",
        "        queue.incrementTime()\n",
        "    return queues\n",
        "\n",
        "def newCustomer(queues):\n",
        "    rand = random.randint(2, 10)\n",
        "    for queue in queues:\n",
        "        queue.enqueue(Customer(rand))\n",
        "    return queues\n",
        "\n",
        "def printComplexStatus(queues):\n",
        "    for queue in queues:\n",
        "        print()\n",
        "        print(\"Simulated Checkout with\", queue.stations.n, \"checkout stations\")\n",
        "        print(\"Average time spent in line is currently\",queue.checkTime())\n",
        "        print()\n",
        "\n",
        "def printStatus(queues):\n",
        "    for queue in queues:\n",
        "        print()\n",
        "        print(\"Current station status\", queue.stations.stations)\n",
        "        print(\"There are currently\", queue.size, \"people in line\")\n",
        "        print()\n",
        "\n",
        "def controlledLoop(queues):\n",
        "    running = True\n",
        "    inp = input(\"How many people should the line start with:\\t\")\n",
        "    for i in range(int(inp)):\n",
        "        queues = newCustomer(queues)\n",
        "    while running:\n",
        "        inp = input(\"Enter number of loops to run, or 'Q' to quit:\\t\")\n",
        "        newC = random.randint(5,12)\n",
        "        if inp == 'Q':\n",
        "            print(\"Quitting...\")\n",
        "            running = False\n",
        "        else:\n",
        "            for i in range(int(inp)):\n",
        "                queues = update(queues)\n",
        "                if newC <= 0:\n",
        "                    queues = newCustomer(queues)\n",
        "                    newC = random.randint(5,12)\n",
        "                newC -= 1\n",
        "            printStatus(queues)\n",
        "\n",
        "def probLoop(queues,min,max):\n",
        "    running = True\n",
        "    for i in range(500):\n",
        "        queues = newCustomer(queues)\n",
        "    while running:\n",
        "        newC = random.randint(min,max)\n",
        "        for i in range(50):\n",
        "            queues = update(queues)\n",
        "            if newC <= 0:\n",
        "                queues = newCustomer(queues)\n",
        "                newC = random.randint(min,max)\n",
        "            newC -= 1\n",
        "        #printStatus(queues)\n",
        "        active = False\n",
        "        for queue in queues:\n",
        "            if queue.head != None:\n",
        "                active = True\n",
        "            for i in range(queue.stations.n):\n",
        "                if queue.stations.stations[i] > 0:\n",
        "                    active = True\n",
        "        running = active\n",
        "    printComplexStatus(queues)\n"
      ]
    },
    {
      "cell_type": "code",
      "source": [
        "queues = [Queue(Stations(2)), Queue(Stations(3))]\n",
        "probLoop(queues,1,10)"
      ],
      "metadata": {
        "colab": {
          "base_uri": "https://localhost:8080/"
        },
        "id": "g37rqU7wvYFl",
        "outputId": "9c20a712-fffd-4d83-edf6-3e05951136a2"
      },
      "execution_count": 8,
      "outputs": [
        {
          "output_type": "stream",
          "name": "stdout",
          "text": [
            "\n",
            "Simulated Checkout with 2 checkout stations\n",
            "Average time spent in line is currently 715.66\n",
            "\n",
            "\n",
            "Simulated Checkout with 3 checkout stations\n",
            "Average time spent in line is currently 351.04\n",
            "\n"
          ]
        }
      ]
    },
    {
      "cell_type": "code",
      "source": [
        "probLoop(queues,10,100)"
      ],
      "metadata": {
        "colab": {
          "base_uri": "https://localhost:8080/"
        },
        "id": "AAxq92DrCKAs",
        "outputId": "ecdb417c-94a9-4f4c-9c89-b772211e8e26"
      },
      "execution_count": 9,
      "outputs": [
        {
          "output_type": "stream",
          "name": "stdout",
          "text": [
            "\n",
            "Simulated Checkout with 2 checkout stations\n",
            "Average time spent in line is currently 730.81\n",
            "\n",
            "\n",
            "Simulated Checkout with 3 checkout stations\n",
            "Average time spent in line is currently 400.91\n",
            "\n"
          ]
        }
      ]
    },
    {
      "cell_type": "code",
      "source": [
        "probLoop(queues,50,100)"
      ],
      "metadata": {
        "colab": {
          "base_uri": "https://localhost:8080/"
        },
        "id": "bus2mkfsCWOP",
        "outputId": "c64c48fb-7ec5-4f85-ff32-88e0a17dd05f"
      },
      "execution_count": 10,
      "outputs": [
        {
          "output_type": "stream",
          "name": "stdout",
          "text": [
            "\n",
            "Simulated Checkout with 2 checkout stations\n",
            "Average time spent in line is currently 738.81\n",
            "\n",
            "\n",
            "Simulated Checkout with 3 checkout stations\n",
            "Average time spent in line is currently 426.9\n",
            "\n"
          ]
        }
      ]
    }
  ]
}